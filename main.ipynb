{
 "cells": [
  {
   "cell_type": "markdown",
   "metadata": {},
   "source": [
    "# Author\n",
    "| NIM | Nama |\n",
    "|-----|------|\n",
    "| 13521057 | Hosea Nathanael Abetnego |\n",
    "| 13521059 | Arleen Chrysantha Gunardi |\n",
    "| 13521127 | Marcel Ryan Antony |\n",
    "| 13521145 | Kenneth Dave Bahana | "
   ]
  },
  {
   "cell_type": "code",
   "execution_count": 35,
   "metadata": {},
   "outputs": [],
   "source": [
    "import pandas as pd\n",
    "import numpy as np\n",
    "\n",
    "from csv import reader\n",
    "from algorithm.naivebayes import NaiveBayesClassifier\n",
    "from algorithm.knn import *\n",
    "from sklearn.naive_bayes import GaussianNB\n",
    "from sklearn.metrics import accuracy_score, precision_score, recall_score\n",
    "from sklearn.neighbors import KNeighborsClassifier"
   ]
  },
  {
   "cell_type": "markdown",
   "metadata": {},
   "source": [
    "# Perbandingan implementasi Naive-Bayes buatan dengan Naive-Bayes scikit-learn"
   ]
  },
  {
   "cell_type": "code",
   "execution_count": 36,
   "metadata": {},
   "outputs": [
    {
     "data": {
      "text/html": [
       "<div>\n",
       "<style scoped>\n",
       "    .dataframe tbody tr th:only-of-type {\n",
       "        vertical-align: middle;\n",
       "    }\n",
       "\n",
       "    .dataframe tbody tr th {\n",
       "        vertical-align: top;\n",
       "    }\n",
       "\n",
       "    .dataframe thead th {\n",
       "        text-align: right;\n",
       "    }\n",
       "</style>\n",
       "<table border=\"1\" class=\"dataframe\">\n",
       "  <thead>\n",
       "    <tr style=\"text-align: right;\">\n",
       "      <th></th>\n",
       "      <th>battery_power</th>\n",
       "      <th>blue</th>\n",
       "      <th>clock_speed</th>\n",
       "      <th>dual_sim</th>\n",
       "      <th>fc</th>\n",
       "      <th>four_g</th>\n",
       "      <th>int_memory</th>\n",
       "      <th>m_dep</th>\n",
       "      <th>mobile_wt</th>\n",
       "      <th>n_cores</th>\n",
       "      <th>...</th>\n",
       "      <th>px_height</th>\n",
       "      <th>px_width</th>\n",
       "      <th>ram</th>\n",
       "      <th>sc_h</th>\n",
       "      <th>sc_w</th>\n",
       "      <th>talk_time</th>\n",
       "      <th>three_g</th>\n",
       "      <th>touch_screen</th>\n",
       "      <th>wifi</th>\n",
       "      <th>price_range</th>\n",
       "    </tr>\n",
       "  </thead>\n",
       "  <tbody>\n",
       "    <tr>\n",
       "      <th>0</th>\n",
       "      <td>842</td>\n",
       "      <td>0</td>\n",
       "      <td>2.2</td>\n",
       "      <td>0</td>\n",
       "      <td>1</td>\n",
       "      <td>0</td>\n",
       "      <td>7</td>\n",
       "      <td>0.6</td>\n",
       "      <td>188</td>\n",
       "      <td>2</td>\n",
       "      <td>...</td>\n",
       "      <td>20</td>\n",
       "      <td>756</td>\n",
       "      <td>2549</td>\n",
       "      <td>9</td>\n",
       "      <td>7</td>\n",
       "      <td>19</td>\n",
       "      <td>0</td>\n",
       "      <td>0</td>\n",
       "      <td>1</td>\n",
       "      <td>1</td>\n",
       "    </tr>\n",
       "    <tr>\n",
       "      <th>1</th>\n",
       "      <td>563</td>\n",
       "      <td>1</td>\n",
       "      <td>0.5</td>\n",
       "      <td>1</td>\n",
       "      <td>2</td>\n",
       "      <td>1</td>\n",
       "      <td>41</td>\n",
       "      <td>0.9</td>\n",
       "      <td>145</td>\n",
       "      <td>5</td>\n",
       "      <td>...</td>\n",
       "      <td>1263</td>\n",
       "      <td>1716</td>\n",
       "      <td>2603</td>\n",
       "      <td>11</td>\n",
       "      <td>2</td>\n",
       "      <td>9</td>\n",
       "      <td>1</td>\n",
       "      <td>1</td>\n",
       "      <td>0</td>\n",
       "      <td>2</td>\n",
       "    </tr>\n",
       "    <tr>\n",
       "      <th>2</th>\n",
       "      <td>769</td>\n",
       "      <td>1</td>\n",
       "      <td>2.9</td>\n",
       "      <td>1</td>\n",
       "      <td>0</td>\n",
       "      <td>0</td>\n",
       "      <td>9</td>\n",
       "      <td>0.1</td>\n",
       "      <td>182</td>\n",
       "      <td>5</td>\n",
       "      <td>...</td>\n",
       "      <td>248</td>\n",
       "      <td>874</td>\n",
       "      <td>3946</td>\n",
       "      <td>5</td>\n",
       "      <td>2</td>\n",
       "      <td>7</td>\n",
       "      <td>0</td>\n",
       "      <td>0</td>\n",
       "      <td>0</td>\n",
       "      <td>3</td>\n",
       "    </tr>\n",
       "    <tr>\n",
       "      <th>3</th>\n",
       "      <td>775</td>\n",
       "      <td>0</td>\n",
       "      <td>1.0</td>\n",
       "      <td>0</td>\n",
       "      <td>3</td>\n",
       "      <td>0</td>\n",
       "      <td>46</td>\n",
       "      <td>0.7</td>\n",
       "      <td>159</td>\n",
       "      <td>2</td>\n",
       "      <td>...</td>\n",
       "      <td>862</td>\n",
       "      <td>1864</td>\n",
       "      <td>568</td>\n",
       "      <td>17</td>\n",
       "      <td>15</td>\n",
       "      <td>11</td>\n",
       "      <td>1</td>\n",
       "      <td>1</td>\n",
       "      <td>1</td>\n",
       "      <td>0</td>\n",
       "    </tr>\n",
       "    <tr>\n",
       "      <th>4</th>\n",
       "      <td>595</td>\n",
       "      <td>0</td>\n",
       "      <td>0.9</td>\n",
       "      <td>1</td>\n",
       "      <td>7</td>\n",
       "      <td>1</td>\n",
       "      <td>23</td>\n",
       "      <td>0.1</td>\n",
       "      <td>121</td>\n",
       "      <td>3</td>\n",
       "      <td>...</td>\n",
       "      <td>441</td>\n",
       "      <td>810</td>\n",
       "      <td>3752</td>\n",
       "      <td>10</td>\n",
       "      <td>2</td>\n",
       "      <td>18</td>\n",
       "      <td>1</td>\n",
       "      <td>1</td>\n",
       "      <td>0</td>\n",
       "      <td>3</td>\n",
       "    </tr>\n",
       "  </tbody>\n",
       "</table>\n",
       "<p>5 rows × 21 columns</p>\n",
       "</div>"
      ],
      "text/plain": [
       "   battery_power  blue  clock_speed  dual_sim  fc  four_g  int_memory  m_dep  \\\n",
       "0            842     0          2.2         0   1       0           7    0.6   \n",
       "1            563     1          0.5         1   2       1          41    0.9   \n",
       "2            769     1          2.9         1   0       0           9    0.1   \n",
       "3            775     0          1.0         0   3       0          46    0.7   \n",
       "4            595     0          0.9         1   7       1          23    0.1   \n",
       "\n",
       "   mobile_wt  n_cores  ...  px_height  px_width   ram  sc_h  sc_w  talk_time  \\\n",
       "0        188        2  ...         20       756  2549     9     7         19   \n",
       "1        145        5  ...       1263      1716  2603    11     2          9   \n",
       "2        182        5  ...        248       874  3946     5     2          7   \n",
       "3        159        2  ...        862      1864   568    17    15         11   \n",
       "4        121        3  ...        441       810  3752    10     2         18   \n",
       "\n",
       "   three_g  touch_screen  wifi  price_range  \n",
       "0        0             0     1            1  \n",
       "1        1             1     0            2  \n",
       "2        0             0     0            3  \n",
       "3        1             1     1            0  \n",
       "4        1             1     0            3  \n",
       "\n",
       "[5 rows x 21 columns]"
      ]
     },
     "execution_count": 36,
     "metadata": {},
     "output_type": "execute_result"
    }
   ],
   "source": [
    "df = pd.read_csv(\"./data/data_train.csv\")\n",
    "df_test = pd.read_csv(\"./data/data_validation.csv\")\n",
    "\n",
    "df_test.head()"
   ]
  },
  {
   "cell_type": "code",
   "execution_count": 37,
   "metadata": {},
   "outputs": [],
   "source": [
    "column_name = 'px_height'\n",
    "\n",
    "# Replace values less than 217 with 217 in the specified column using numpy\n",
    "df[column_name] = np.where(df[column_name] < 217, 217, df[column_name])\n",
    "\n",
    "column_name = \"sc_w\"\n",
    "\n",
    "df[column_name] = np.where(df[column_name] < 2.5, 2.5, df[column_name])\n",
    "\n",
    "dropped_columns = ['m_dep', 'talk_time', 'clock_speed', 'n_cores', 'pc', 'blue', 'four_g', 'dual_sim', 'three_g', 'touch_screen', 'wifi']\n",
    "\n",
    "df = df.drop(columns=dropped_columns)\n",
    "df_test = df_test.drop(columns=dropped_columns)"
   ]
  },
  {
   "cell_type": "code",
   "execution_count": null,
   "metadata": {},
   "outputs": [],
   "source": [
    "train = df.values.tolist()\n",
    "test = df_test.values.tolist()\n",
    "\n",
    "print(train)\n",
    "df.head()"
   ]
  },
  {
   "cell_type": "code",
   "execution_count": null,
   "metadata": {},
   "outputs": [],
   "source": [
    "for i in range(1, len(train)):\n",
    "    for j in range(len(train[i])):\n",
    "        train[i][j]=float(train[i][j])\n",
    "\n",
    "for i in range(1, len(test)):\n",
    "    for j in range(len(test[i])):\n",
    "        test[i][j]=float(test[i][j])\n",
    "\n",
    "X_train = []\n",
    "y_train = []\n",
    "\n",
    "X_test = []\n",
    "y_test = []\n",
    "\n",
    "for i in range(1, len(train)):\n",
    "    X_train.append(train[i][:-1])\n",
    "    y_train.append(train[i][-1])\n",
    "\n",
    "for i in range(1, len(test)):\n",
    "    X_test.append(test[i][:-1])\n",
    "    y_test.append(test[i][-1])\n",
    "\n",
    "print(X_train)\n",
    "print(y_train)"
   ]
  },
  {
   "cell_type": "code",
   "execution_count": 40,
   "metadata": {},
   "outputs": [],
   "source": [
    "model = NaiveBayesClassifier()"
   ]
  },
  {
   "cell_type": "code",
   "execution_count": 41,
   "metadata": {},
   "outputs": [
    {
     "name": "stdout",
     "output_type": "stream",
     "text": [
      "NaiveBayesClassifier accuracy: 0.801335559\n",
      "NaiveBayesClassifier precision: 0.801335559\n",
      "NaiveBayesClassifier recall: 0.801335559\n"
     ]
    }
   ],
   "source": [
    "model.fit(X_train, y_train)\n",
    "\n",
    "y_pred = model.predict(X_test)\n",
    "\n",
    "# print(\"NaiveBayesClassifier accuracy: {0:.9f}\".format(model.accuracy(y_test, y_pred)))\n",
    "\n",
    "# Menghitung akurasi built-in\n",
    "accuracy = accuracy_score(y_test, y_pred)\n",
    "print(\"NaiveBayesClassifier accuracy: {0:.9f}\".format(accuracy))\n",
    "\n",
    "# Menghitung precision built-in\n",
    "precision = precision_score(y_test, y_pred, average='micro')  # Ganti 'binary' dengan 'micro', 'macro', atau 'weighted' jika diperlukan\n",
    "print(\"NaiveBayesClassifier precision: {0:.9f}\".format(precision))\n",
    "\n",
    "# Menghitung recall built-in\n",
    "recall = recall_score(y_test, y_pred, average='micro')  # Ganti 'binary' dengan 'micro', 'macro', atau 'weighted' jika diperlukan\n",
    "print(\"NaiveBayesClassifier recall: {0:.9f}\".format(recall))"
   ]
  },
  {
   "cell_type": "code",
   "execution_count": 42,
   "metadata": {},
   "outputs": [
    {
     "name": "stdout",
     "output_type": "stream",
     "text": [
      "Scikit-learn GaussianNB accuracy: 0.801335559\n",
      "Scikit-learn GaussianNB precision: 0.801335559\n",
      "Scikit-learn GaussianNB recall: 0.801335559\n"
     ]
    }
   ],
   "source": [
    "librarymodel = GaussianNB()\n",
    "\n",
    "librarymodel.fit(X_train, y_train)\n",
    "\n",
    "y_pred = librarymodel.predict(X_test)\n",
    "\n",
    "# print(\"Scikit-learn GaussianNB accuracy: {0:.9f}\".format(accuracy_score(y_test, y_pred)))\n",
    "\n",
    "# Menghitung akurasi buatan \n",
    "accuracy = accuracy_score(y_test, y_pred)\n",
    "print(\"Scikit-learn GaussianNB accuracy: {0:.9f}\".format(accuracy))\n",
    "\n",
    "# Menghitung precision buatan\n",
    "precision = precision_score(y_test, y_pred, average='micro')  # Ganti 'binary' dengan 'micro', 'macro', atau 'weighted' jika diperlukan\n",
    "print(\"Scikit-learn GaussianNB precision: {0:.9f}\".format(precision))\n",
    "\n",
    "# Menghitung recall buatan\n",
    "recall = recall_score(y_test, y_pred, average='micro')  # Ganti 'binary' dengan 'micro', 'macro', atau 'weighted' jika diperlukan\n",
    "print(\"Scikit-learn GaussianNB recall: {0:.9f}\".format(recall))"
   ]
  },
  {
   "cell_type": "markdown",
   "metadata": {},
   "source": [
    "# Perbandingan implementasi KNN buatan dengan KNN scikit-learn"
   ]
  },
  {
   "cell_type": "code",
   "execution_count": 43,
   "metadata": {},
   "outputs": [],
   "source": [
    "df = pd.read_csv('./data/data_train.csv')\n",
    "df_test = pd.read_csv('./data/data_validation.csv')"
   ]
  },
  {
   "cell_type": "code",
   "execution_count": 44,
   "metadata": {},
   "outputs": [],
   "source": [
    "column_name = 'px_height'\n",
    "\n",
    "# Replace values less than 217 with 217 in the specified column using numpy\n",
    "df[column_name] = np.where(df[column_name] < 217, 217, df[column_name])\n",
    "\n",
    "column_name = \"sc_w\"\n",
    "\n",
    "df[column_name] = np.where(df[column_name] < 2.5, 2.5, df[column_name])"
   ]
  },
  {
   "cell_type": "code",
   "execution_count": 45,
   "metadata": {},
   "outputs": [],
   "source": [
    "X_train = df.drop(columns=['m_dep', 'talk_time', 'clock_speed', 'n_cores', 'pc', 'blue', 'dual_sim', 'four_g', 'three_g', 'touch_screen', 'wifi'], axis=1)\n",
    "y_train = df['price_range']\n",
    "\n",
    "X_test = df_test.drop(columns=['price_range', 'm_dep', 'talk_time', 'clock_speed', 'n_cores', 'pc', 'blue', 'dual_sim', 'four_g', 'three_g', 'touch_screen', 'wifi'], axis=1)\n",
    "y_test = df_test['price_range']"
   ]
  },
  {
   "cell_type": "code",
   "execution_count": 46,
   "metadata": {},
   "outputs": [
    {
     "name": "stdout",
     "output_type": "stream",
     "text": [
      "Implemented KNN accuracy: 0.911666667\n",
      "Implemented KNN precision: 0.911666667\n",
      "Implemented KNN recall: 0.911666667\n"
     ]
    }
   ],
   "source": [
    "y_pred = knn_prediction(X_train, X_test, 1) \n",
    "\n",
    "accuracy = accuracy_score(y_test, y_pred)\n",
    "print(\"Implemented KNN accuracy: {0:.9f}\".format(accuracy))\n",
    "\n",
    "precision = precision_score(y_test, y_pred, average='micro')\n",
    "print(\"Implemented KNN precision: {0:.9f}\".format(precision))\n",
    "\n",
    "recall = recall_score(y_test, y_pred, average='micro')\n",
    "print(\"Implemented KNN recall: {0:.9f}\".format(recall))"
   ]
  },
  {
   "cell_type": "code",
   "execution_count": 47,
   "metadata": {},
   "outputs": [
    {
     "name": "stdout",
     "output_type": "stream",
     "text": [
      "Scikit-learn KNeighborsClassifier accuracy: 0.911666667\n",
      "Scikit-learn KNeighborsClassifier precision: 0.911666667\n",
      "Scikit-learn KNeighborsClassifier recall: 0.911666667\n"
     ]
    }
   ],
   "source": [
    "X_train = X_train.drop(columns='price_range', axis=1)\n",
    "y_train = df['price_range']\n",
    "\n",
    "knn = KNeighborsClassifier(n_neighbors=1) \n",
    "knn.fit(X_train, y_train)\n",
    "\n",
    "y_pred_library = knn.predict(X_test)\n",
    "\n",
    "accuracy = accuracy_score(y_test, y_pred_library)\n",
    "print(\"Scikit-learn KNeighborsClassifier accuracy: {0:.9f}\".format(accuracy))\n",
    "\n",
    "precision = precision_score(y_test, y_pred_library, average='micro')\n",
    "print(\"Scikit-learn KNeighborsClassifier precision: {0:.9f}\".format(precision))\n",
    "\n",
    "recall = recall_score(y_test, y_pred_library, average='micro')\n",
    "print(\"Scikit-learn KNeighborsClassifier recall: {0:.9f}\".format(recall))"
   ]
  }
 ],
 "metadata": {
  "kernelspec": {
   "display_name": "Python 3",
   "language": "python",
   "name": "python3"
  },
  "language_info": {
   "codemirror_mode": {
    "name": "ipython",
    "version": 3
   },
   "file_extension": ".py",
   "mimetype": "text/x-python",
   "name": "python",
   "nbconvert_exporter": "python",
   "pygments_lexer": "ipython3",
   "version": "3.11.5"
  }
 },
 "nbformat": 4,
 "nbformat_minor": 2
}
