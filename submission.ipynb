{
 "cells": [
  {
   "cell_type": "code",
   "execution_count": 4,
   "metadata": {},
   "outputs": [],
   "source": [
    "from algorithm.knn import * \n",
    "from sklearn.neighbors import KNeighborsClassifier\n",
    "from sklearn.preprocessing import StandardScaler\n",
    "from sklearn.model_selection import train_test_split\n",
    "from sklearn.metrics import accuracy_score\n",
    "import pandas as pd"
   ]
  },
  {
   "cell_type": "code",
   "execution_count": 5,
   "metadata": {},
   "outputs": [],
   "source": [
    "df = pd.read_csv('./data/data_initial_train.csv')\n",
    "df2 = pd.read_csv('./data/test.csv')"
   ]
  },
  {
   "cell_type": "markdown",
   "metadata": {},
   "source": [
    "## Replace unrealistic value in data"
   ]
  },
  {
   "cell_type": "code",
   "execution_count": 6,
   "metadata": {},
   "outputs": [],
   "source": [
    "column_name = 'px_height'\n",
    "\n",
    "# Replace values less than 217 with 217 in the specified column using numpy\n",
    "df[column_name] = np.where(df[column_name] < 217, 217, df[column_name])\n",
    "\n",
    "column_name = \"sc_w\"\n",
    "\n",
    "df[column_name] = np.where(df[column_name] < 2.82, 2.82, df[column_name])"
   ]
  },
  {
   "cell_type": "markdown",
   "metadata": {},
   "source": [
    "## Filter columns"
   ]
  },
  {
   "cell_type": "code",
   "execution_count": 7,
   "metadata": {},
   "outputs": [],
   "source": [
    "X_train = df.drop(columns=['m_dep', 'talk_time', 'clock_speed', 'n_cores', 'pc', 'blue', 'dual_sim', 'four_g', 'three_g', 'touch_screen', 'wifi'], axis=1)\n",
    "y_train = df['price_range']\n",
    "\n",
    "ids = df2['id']\n",
    "X_test = df2.drop(columns=['id', 'm_dep', 'talk_time', 'clock_speed', 'n_cores', 'pc', 'blue', 'dual_sim', 'four_g', 'three_g', 'touch_screen', 'wifi'], axis=1)"
   ]
  },
  {
   "cell_type": "code",
   "execution_count": 9,
   "metadata": {},
   "outputs": [
    {
     "name": "stdout",
     "output_type": "stream",
     "text": [
      "____________________________________ bikin sendiri:\n",
      "        id  price_range\n",
      "0        0            0\n",
      "1        1            3\n",
      "2        2            3\n",
      "3        3            2\n",
      "4        4            0\n",
      "...    ...          ...\n",
      "1995  1995            2\n",
      "1996  1996            0\n",
      "1997  1997            3\n",
      "1998  1998            0\n",
      "1999  1999            3\n",
      "\n",
      "[2000 rows x 2 columns]\n"
     ]
    }
   ],
   "source": [
    "print(\"____________________________________ bikin sendiri:\")\n",
    "y_pred2 = knn_prediction(X_train, X_test, 1) \n",
    "df_submission = pd.DataFrame(data={\"id\": ids, \"price_range\": y_pred2})\n",
    "print(df_submission)\n",
    "df_submission.to_csv(\"./data/submission.csv\", index=False)"
   ]
  }
 ],
 "metadata": {
  "kernelspec": {
   "display_name": "base",
   "language": "python",
   "name": "python3"
  },
  "language_info": {
   "codemirror_mode": {
    "name": "ipython",
    "version": 3
   },
   "file_extension": ".py",
   "mimetype": "text/x-python",
   "name": "python",
   "nbconvert_exporter": "python",
   "pygments_lexer": "ipython3",
   "version": "3.11.5"
  }
 },
 "nbformat": 4,
 "nbformat_minor": 2
}
